{
 "cells": [
  {
   "cell_type": "code",
   "execution_count": 1,
   "metadata": {},
   "outputs": [],
   "source": [
    "# Import libraries\n",
    "import pyspark\n",
    "import numpy as np\n",
    "import databricks.koalas as ks\n",
    "import matplotlib.pyplot as plt\n",
    "\n",
    "from pyspark import SparkContext, SparkConf\n",
    "\n",
    "from pyspark.sql import *\n",
    "from pyspark.sql.types import *\n",
    "from pyspark.sql.functions import *\n",
    "\n",
    "from pyspark.ml.pipeline import PipelineModel\n",
    "from pyspark.ml.tuning import CrossValidatorModel\n",
    "\n",
    "from typing import *\n",
    "\n",
    "np.int = np.int32\n",
    "np.float = np.float64\n",
    "np.bool = np.bool_"
   ]
  },
  {
   "cell_type": "code",
   "execution_count": 2,
   "metadata": {},
   "outputs": [],
   "source": [
    "weather_conditions_df = ks.read_csv('data/weather_description.csv')\n",
    "humidity_df = ks.read_csv('data/humidity.csv')\n",
    "pressure_df = ks.read_csv('data/pressure.csv')\n",
    "temperature_df = ks.read_csv('data/temperature.csv')\n",
    "city_attributes_df = ks.read_csv('data\\city_attributes.csv')\n",
    "wind_direction_df = ks.read_csv('data/wind_direction.csv')\n",
    "wind_speed_df = ks.read_csv('data/wind_speed.csv')\n",
    "\n",
    "humidity_df.columns\n",
    "\n",
    "columns_to_drop = [  'Charlotte', 'Miami',\n",
    "       'Pittsburgh', 'Toronto', 'Philadelphia','New York', 'Montreal',\n",
    "       'Boston', 'Beersheba', 'Tel Aviv District', 'Eilat', 'Haifa',\n",
    "       'Nahariyya', 'Jerusalem']\n",
    "\n",
    "\n",
    "weather_conditions_df = weather_conditions_df.drop(columns_to_drop, axis=1)\n",
    "humidity_df = humidity_df.drop(columns_to_drop, axis=1)\n",
    "pressure_df = pressure_df.drop(columns_to_drop, axis=1)\n",
    "temperature_df = temperature_df.drop(columns_to_drop, axis=1)\n",
    "wind_direction_df = wind_direction_df.drop(columns_to_drop, axis=1)\n",
    "wind_speed_df = wind_speed_df.drop(columns_to_drop, axis=1)\n"
   ]
  },
  {
   "cell_type": "code",
   "execution_count": 5,
   "metadata": {},
   "outputs": [],
   "source": [
    "# Melt the DataFrame to convert column names to a single column\n",
    "weather_conditions_melted = weather_conditions_df.melt(id_vars=['datetime'], var_name='city', value_name='weather_condition')\n",
    "humidity_mel = humidity_df.melt(id_vars=['datetime'], var_name='city', value_name='humidity')\n",
    "pressure_mel = pressure_df.melt(id_vars=['datetime'], var_name='city', value_name='pressure')\n",
    "temperature_mel = temperature_df.melt(id_vars=['datetime'], var_name='city', value_name='temperature')\n",
    "wind_direction_mel = wind_direction_df.melt(id_vars=['datetime'], var_name='city', value_name='wind_direction')\n",
    "wind_speed_mel = wind_speed_df.melt(id_vars=['datetime'], var_name='city', value_name='wind_speed')"
   ]
  },
  {
   "cell_type": "code",
   "execution_count": 6,
   "metadata": {},
   "outputs": [
    {
     "data": {
      "text/plain": [
       "Index(['city', 'datetime', 'weather_condition', 'Country', 'Latitude',\n",
       "       'Longitude', 'humidity', 'pressure', 'temperature', 'wind_direction',\n",
       "       'wind_speed'],\n",
       "      dtype='object')"
      ]
     },
     "execution_count": 6,
     "metadata": {},
     "output_type": "execute_result"
    }
   ],
   "source": [
    "join_kdf = weather_conditions_melted.join(city_attributes_df.set_index(['City']), on = 'city', how = 'left')  \\\n",
    "        .join(humidity_mel.set_index(['city', 'datetime']), on = ['city', 'datetime'], how = 'outer') \\\n",
    "        .join(pressure_mel.set_index(['city', 'datetime']), on = ['city', 'datetime'], how = 'outer')  \\\n",
    "        .join(temperature_mel.set_index(['city', 'datetime']), on = ['city', 'datetime'],how = 'outer')   \\\n",
    "        .join(wind_direction_mel.set_index(['city', 'datetime']), on = ['city', 'datetime'],how = 'outer')   \\\n",
    "        .join(wind_speed_mel.set_index(['city', 'datetime']), on = ['city', 'datetime'],how = 'outer')\n",
    "\n",
    "\n",
    "join_kdf.columns"
   ]
  },
  {
   "cell_type": "code",
   "execution_count": 7,
   "metadata": {},
   "outputs": [],
   "source": [
    "not_null_weather_measurements_df = join_kdf.dropna()"
   ]
  },
  {
   "cell_type": "code",
   "execution_count": 9,
   "metadata": {},
   "outputs": [
    {
     "data": {
      "text/plain": [
       "'\\n- Now we join many value in weather into 6 big weathers\\n\\na dictionary that goes from the original weather condition name to one among the following:\\n            - thunderstorm\\n            - rainy\\n            - snowy\\n            - cloudy\\n            - foggy\\n            - sunny\\n'"
      ]
     },
     "execution_count": 9,
     "metadata": {},
     "output_type": "execute_result"
    }
   ],
   "source": [
    "'''\n",
    "- Now we join many value in weather into 6 big weathers\n",
    "\n",
    "a dictionary that goes from the original weather condition name to one among the following:\n",
    "            - thunderstorm\n",
    "            - rainy\n",
    "            - snowy\n",
    "            - cloudy\n",
    "            - foggy\n",
    "            - sunny\n",
    "'''"
   ]
  },
  {
   "cell_type": "code",
   "execution_count": 10,
   "metadata": {},
   "outputs": [],
   "source": [
    "# group the same weather\n",
    "\n",
    "weather_mapping = {\n",
    "    'sky is clear': 'sunny',\n",
    "    'overcast clouds': 'cloudy',\n",
    "    'light rain': 'rainy',\n",
    "    'broken clouds': 'cloudy',\n",
    "    'few clouds': 'cloudy',\n",
    "    'haze': 'foggy',\n",
    "    'very heavy rain': 'rainy',\n",
    "    'thunderstorm with rain': 'thunderstorm',\n",
    "    'smoke': 'foggy',\n",
    "    'scattered clouds': 'cloudy',\n",
    "    'proximity shower rain': 'rainy',\n",
    "    'fog': 'foggy',\n",
    "    'moderate rain': 'rainy',\n",
    "    'proximity thunderstorm': 'thunderstorm',\n",
    "    'light snow': 'snowy',\n",
    "    'light shower snow': 'snowy',\n",
    "    'snow': 'snowy',\n",
    "    'sleet': 'snowy',\n",
    "    'light shower sleet': 'snowy',\n",
    "    'mist': 'foggy',\n",
    "    'proximity thunderstorm': 'thunderstorm',\n",
    "    'thunderstorm with heavy rain': 'thunderstorm'\n",
    "}\n",
    "\n",
    "not_null_weather_measurements_df['weather_condition'] =  \\\n",
    "not_null_weather_measurements_df['weather_condition'].replace(weather_mapping)\n",
    "\n",
    "# filter out other\n",
    "valid_values = ['thunderstorm', 'rainy', 'snowy', 'cloudy', 'foggy', 'sunny']\n",
    "not_null_weather_measurements_df = not_null_weather_measurements_df[not_null_weather_measurements_df['weather_condition'].isin(valid_values)]"
   ]
  },
  {
   "cell_type": "code",
   "execution_count": 12,
   "metadata": {},
   "outputs": [
    {
     "name": "stdout",
     "output_type": "stream",
     "text": [
      "weather_condition\n",
      "rainy           110357\n",
      "snowy             9927\n",
      "sunny           374900\n",
      "cloudy          350190\n",
      "thunderstorm      6618\n",
      "foggy           101465\n",
      "Name: count, dtype: int64\n"
     ]
    }
   ],
   "source": [
    "value_counts = not_null_weather_measurements_df.groupby('weather_condition').size()\n",
    "\n",
    "print(value_counts)"
   ]
  },
  {
   "cell_type": "code",
   "execution_count": 13,
   "metadata": {},
   "outputs": [],
   "source": [
    "\n",
    "spark_df = not_null_weather_measurements_df.to_spark()\n",
    "\n",
    "# Specific number to downsample to\n",
    "specific_number = value_counts.min()\n",
    "\n",
    "# Downsample each group\n",
    "def downsample_to_specific_number(df, col_name, count):\n",
    "    return df.groupBy(col_name).applyInPandas(\n",
    "        lambda pdf: pdf.sample(n=count, random_state=42) if len(pdf) > count else pdf,\n",
    "        schema=df.schema\n",
    "    )\n",
    "\n",
    "downsampled_spark_df = downsample_to_specific_number(spark_df, 'weather_condition', specific_number)\n",
    "\n",
    "# Convert back to Koalas DataFrame if needed\n",
    "balanced_df = downsampled_spark_df.to_koalas()\n",
    "\n",
    "\n",
    "balanced_df.columns"
   ]
  },
  {
   "cell_type": "code",
   "execution_count": 14,
   "metadata": {},
   "outputs": [],
   "source": [
    "# value_counters = balanced_df.groupby('weather_condition').size()\n",
    "\n",
    "# print(value_counters)"
   ]
  },
  {
   "cell_type": "code",
   "execution_count": 26,
   "metadata": {},
   "outputs": [],
   "source": [
    "# import databricks.koalas as ks\n",
    "# from pyspark.sql import SparkSession\n",
    "# from pyspark.ml.feature import OneHotEncoder, StringIndexer, VectorAssembler\n",
    "# from pyspark.ml.classification import DecisionTreeClassifier\n",
    "# from pyspark.ml.evaluation import MulticlassClassificationEvaluator\n",
    "# from pyspark.sql import SparkSession, functions as F\n",
    "\n",
    "# spark = SparkSession.builder.appName(\"KoalasAndSparkML\").getOrCreate()\n",
    "# spark.catalog.clearCache()"
   ]
  },
  {
   "cell_type": "code",
   "execution_count": 138,
   "metadata": {},
   "outputs": [],
   "source": [
    "import databricks.koalas as ks\n",
    "from pyspark.sql import SparkSession\n",
    "from pyspark.ml.feature import OneHotEncoder, StringIndexer, VectorAssembler\n",
    "from pyspark.ml.classification import DecisionTreeClassifier\n",
    "from pyspark.ml.evaluation import MulticlassClassificationEvaluator\n",
    "from pyspark.sql import SparkSession, functions as F\n",
    "\n",
    "spark = SparkSession.builder.appName(\"KoalasAndSparkML\").getOrCreate()\n",
    "\n",
    "spark_df = balanced_df.to_spark()\n",
    "\n",
    "spark_df = spark_df.orderBy(F.rand())\n",
    "\n",
    "# Index the weather_condition column\n",
    "indexer = StringIndexer(inputCol=\"weather_condition\", outputCol=\"label\")\n",
    "indexed_df_1 = indexer.fit(spark_df)\n",
    "indexed_df = indexed_df_1.transform(spark_df)\n",
    "\n",
    "\n",
    "#Assemble features into a single vector\n",
    "assembler = VectorAssembler(\n",
    "    inputCols=['humidity', 'pressure','temperature', 'wind_direction', 'wind_speed', 'Longitude','Latitude'],\n",
    "    outputCol='features'\n",
    ")\n",
    "feature_df = assembler.transform(indexed_df)"
   ]
  },
  {
   "cell_type": "code",
   "execution_count": 139,
   "metadata": {},
   "outputs": [],
   "source": [
    "train_df, test_df = feature_df.randomSplit([0.8, 0.2])"
   ]
  },
  {
   "cell_type": "code",
   "execution_count": 140,
   "metadata": {},
   "outputs": [
    {
     "name": "stdout",
     "output_type": "stream",
     "text": [
      "Test set accuracy = 0.5227443139215197\n"
     ]
    }
   ],
   "source": [
    "# Train a decision tree classifier\n",
    "dt = DecisionTreeClassifier(featuresCol='features', labelCol='label', maxDepth=10 )\n",
    "dt_model = dt.fit(train_df)\n",
    "\n",
    "predictions = dt_model.transform(test_df)\n",
    "\n",
    "# Evaluate the model\n",
    "evaluator = MulticlassClassificationEvaluator(labelCol=\"label\", predictionCol=\"prediction\", metricName=\"accuracy\")\n",
    "accuracy = evaluator.evaluate(predictions)\n",
    "print(f\"Test set accuracy = {accuracy}\")\n",
    "\n",
    "# Show some predictions\n",
    "#predictions.select('city', 'weather_condition', 'prediction').show()"
   ]
  },
  {
   "cell_type": "code",
   "execution_count": 20,
   "metadata": {},
   "outputs": [
    {
     "data": {
      "text/plain": [
       "<AxesSubplot:>"
      ]
     },
     "execution_count": 20,
     "metadata": {},
     "output_type": "execute_result"
    },
    {
     "data": {
      "image/png": "[encoded data removed]",
      "text/plain": [
       "<Figure size 1152x360 with 2 Axes>"
      ]
     },
     "metadata": {
      "needs_background": "light"
     },
     "output_type": "display_data"
    }
   ],
   "source": [
    "# print out correlation matrix \n",
    "\n",
    "from pyspark.ml.stat import Correlation\n",
    "from pyspark.ml.feature import VectorAssembler\n",
    "\n",
    "# convert to vector column first\n",
    "vector_col = \"corr_features\"\n",
    "assemblerer = VectorAssembler(inputCols=['humidity', 'pressure','temperature','wind_direction','wind_speed','Longitude','Latitude','label'],\\\n",
    "    outputCol=vector_col)\n",
    "df_vectorer = assemblerer.transform(indexed_df).select(vector_col)\n",
    "\n",
    "# get correlation matrix\n",
    "matrix = Correlation.corr(df_vectorer, vector_col)\n",
    "\n",
    "matrixer = matrix.collect()[0][\"pearson({})\".format(vector_col)].values\n",
    "\n",
    "\n",
    "import seaborn as sns \n",
    "import matplotlib.pyplot as plt\n",
    "\n",
    "x_labels = ['humidity', 'pressure','temperature','wind_direction','wind_speed','Longitude','Latitude','label']\n",
    "y_labels = ['humidity', 'pressure','temperature','wind_direction','wind_speed','Longitude','Latitude','label']\n",
    "\n",
    "plt.figure(figsize=(16,5))  \n",
    "sns.heatmap(matrixer.reshape(8,8), \n",
    "            xticklabels=x_labels,\n",
    "            yticklabels=y_labels,  cmap=\"Greens\", annot=True)"
   ]
  },
  {
   "cell_type": "code",
   "execution_count": 21,
   "metadata": {},
   "outputs": [
    {
     "data": {
      "text/plain": [
       "\"\\nWe can see:\\n- Latitude and  Temperature have quite strong correlation\\n- The same as Temperature/Humidity and Temperature/Pressure and 'Wind_speed'/Wind_direction\\n- Interestingly, Only: humidity, temperature, Latitude , wind_speed, longtitude\\n\\nHowever, we also see that there are big correlation between: Latitude/ temperature, humidity / temperature, longitude / latitude\\n==> its necessary to use Dimensionally Reduction: PCA, from 5 feature we will down to only 3\\n\\n\""
      ]
     },
     "execution_count": 21,
     "metadata": {},
     "output_type": "execute_result"
    }
   ],
   "source": [
    "'''\n",
    "We can see:\n",
    "- Latitude and  Temperature have quite strong correlation\n",
    "- The same as Temperature/Humidity and Temperature/Pressure and 'Wind_speed'/Wind_direction\n",
    "- Interestingly, Only: humidity, temperature, Latitude , wind_speed, longtitude\n",
    "\n",
    "However, we also see that there are big correlation between: Latitude/ temperature, humidity / temperature, longitude / latitude\n",
    "==> its necessary to use Dimensionally Reduction: PCA, from 5 feature we will down to only 3\n",
    "\n",
    "'''"
   ]
  },
  {
   "cell_type": "code",
   "execution_count": 25,
   "metadata": {},
   "outputs": [],
   "source": [
    "from pyspark.ml.feature import VectorAssembler, PCA\n",
    "from pyspark.ml import Pipeline\n",
    "\n",
    "assembler = VectorAssembler(\n",
    "    inputCols=['humidity', 'temperature', 'Longitude', 'wind_speed', 'Latitude'],\n",
    "    outputCol='features'\n",
    ")\n",
    "feature_df = assembler.transform(indexed_df)\n",
    "\n",
    "pca = PCA(k=4, inputCol='features', outputCol='pca_features')\n",
    "pca_model = pca.fit(feature_df)\n",
    "pca_df = pca_model.transform(feature_df)\n",
    "\n"
   ]
  },
  {
   "cell_type": "code",
   "execution_count": 41,
   "metadata": {},
   "outputs": [],
   "source": [
    "train_dfer, test_dfer = pca_df.randomSplit([0.8, 0.2])"
   ]
  },
  {
   "cell_type": "code",
   "execution_count": null,
   "metadata": {},
   "outputs": [],
   "source": [
    "# Train a decision tree classifier\n",
    "dter = DecisionTreeClassifier(featuresCol='features', labelCol='label', maxDepth=10 )\n",
    "dt_modeler = dt.fit(train_dfer)\n",
    "\n",
    "predictionser = dt_modeler.transform(test_dfer)\n",
    "\n",
    "# Evaluate the model\n",
    "evaluatorer = MulticlassClassificationEvaluator(labelCol=\"label\", predictionCol=\"prediction\", metricName=\"accuracy\")\n",
    "accuracyer = evaluator.evaluate(predictionser)\n",
    "print(f\"Test set accuracy = {accuracyer}\")\n"
   ]
  },
  {
   "cell_type": "code",
   "execution_count": 24,
   "metadata": {},
   "outputs": [
    {
     "name": "stdout",
     "output_type": "stream",
     "text": [
      "Test set accuracy = 0.5193779004138969\n",
      "+-----------+-----------------+----------+\n",
      "|       city|weather_condition|prediction|\n",
      "+-----------+-----------------+----------+\n",
      "|Albuquerque|           cloudy|       0.0|\n",
      "|Albuquerque|           cloudy|       3.0|\n",
      "|Albuquerque|           cloudy|       4.0|\n",
      "|Albuquerque|           cloudy|       3.0|\n",
      "|Albuquerque|           cloudy|       0.0|\n",
      "|Albuquerque|            sunny|       0.0|\n",
      "|Albuquerque|           cloudy|       0.0|\n",
      "|Albuquerque|           cloudy|       0.0|\n",
      "|Albuquerque|            sunny|       0.0|\n",
      "|Albuquerque|            rainy|       0.0|\n",
      "|Albuquerque|     thunderstorm|       5.0|\n",
      "|Albuquerque|            rainy|       2.0|\n",
      "|Albuquerque|     thunderstorm|       5.0|\n",
      "|Albuquerque|           cloudy|       2.0|\n",
      "|Albuquerque|     thunderstorm|       5.0|\n",
      "|Albuquerque|     thunderstorm|       5.0|\n",
      "|Albuquerque|     thunderstorm|       5.0|\n",
      "|Albuquerque|            sunny|       2.0|\n",
      "|Albuquerque|            rainy|       1.0|\n",
      "|Albuquerque|            sunny|       0.0|\n",
      "+-----------+-----------------+----------+\n",
      "only showing top 20 rows\n",
      "\n"
     ]
    }
   ],
   "source": [
    "#turn hyper\n",
    "dt_1 = DecisionTreeClassifier(featuresCol='features', labelCol='label', maxDepth=8)  # Maximum depth of the tree (default is 5)\n",
    "\n",
    "dt_model_1 = dt.fit(train_df)\n",
    "\n",
    "predictions_1 = dt_model_1.transform(test_df)\n",
    "\n",
    "# Evaluate the model\n",
    "evaluator_1 = MulticlassClassificationEvaluator(labelCol=\"label\", predictionCol=\"prediction\", metricName=\"accuracy\")\n",
    "accuracy_1 = evaluator_1.evaluate(predictions_1)\n",
    "print(f\"Test set accuracy = {accuracy_1}\")\n",
    "\n",
    "# Show some predictions\n",
    "predictions_1.select('city', 'weather_condition', 'prediction').show()"
   ]
  },
  {
   "cell_type": "code",
   "execution_count": 154,
   "metadata": {},
   "outputs": [],
   "source": [
    "# deploy model into real task\n",
    "\n",
    "DATETIME_COL = 'datetime'\n",
    "HUMIDITY_COL = 'humidity'\n",
    "PRESSURE_COL = 'pressure'\n",
    "TEMPERATURE_COL = 'temperature'\n",
    "WIND_DIRECTION_COL = 'wind_direction'\n",
    "WIND_SPEED_COL = 'wind_speed'\n",
    "LATITUDE_COL = 'Latitude'\n",
    "LONGITUDE_COL = 'Longitude'\n",
    "CITY_COL = 'city'\n",
    "COUNTRY_COL = 'country'\n",
    "WEATHER_CONDITION_COL = 'weather_condition'\n",
    "\n",
    "TARGET_VARIABLE_COL = WEATHER_CONDITION_COL\n",
    "PREDICTED_TARGET_VARIABLE_COL = f'predicted_{TARGET_VARIABLE_COL}'\n",
    "\n",
    "\n",
    "API_KEY = '****************'\n",
    "\n",
    "OPENWEATHER_FORECAST_COL = 'openweather_forecast'\n",
    "\n",
    "API_URL = f'https://api.openweathermap.org/data/2.5/forecast?q=London&appid={API_KEY}'\n",
    "\n",
    "city_name = 'London'"
   ]
  },
  {
   "cell_type": "code",
   "execution_count": 160,
   "metadata": {},
   "outputs": [],
   "source": [
    "def all_api_in_one(api_url, city_name):\n",
    "    \n",
    "    #API_URL = f'https://api.openweathermap.org/data/2.5/forecast?q=London&appid={API_KEY}'\n",
    "    \n",
    "    res = requests.get(api_url).json()\n",
    "    \n",
    "    \n",
    "    coord = res['city']['coord']\n",
    "\n",
    "    latitude = float(coord['lat'])\n",
    "    longitude = float(coord['lon'])\n",
    "\n",
    "    WeatherForecast = Row(DATETIME_COL,\n",
    "                            HUMIDITY_COL,\n",
    "                            PRESSURE_COL,\n",
    "                            TEMPERATURE_COL,\n",
    "                            WIND_DIRECTION_COL,\n",
    "                            WIND_SPEED_COL,\n",
    "                            TARGET_VARIABLE_COL,\n",
    "                            CITY_COL,\n",
    "                            LATITUDE_COL,\n",
    "                            LONGITUDE_COL)\n",
    "\n",
    "    forecasts = list()\n",
    "\n",
    "    for forecast in res['list']:\n",
    "        \n",
    "        main = forecast['main']\n",
    "        wind = forecast['wind']\n",
    "        weather = forecast['weather']\n",
    "\n",
    "        datetime = forecast['dt_txt']\n",
    "        \n",
    "        temperature = float(main['temp'])\n",
    "        pressure = float(main['pressure'])\n",
    "        humidity = float(main['humidity'])\n",
    "        wind_speed = float(wind['speed'])\n",
    "        wind_direction = float(wind['deg'])\n",
    "\n",
    "        weather_condition = weather[0]['main']\n",
    "        \n",
    "        forecast_row = WeatherForecast(datetime,\n",
    "                                        humidity,\n",
    "                                        pressure,\n",
    "                                        temperature,\n",
    "                                        wind_direction,\n",
    "                                        wind_speed,\n",
    "                                        weather_condition,\n",
    "                                        city_name,\n",
    "                                        latitude,\n",
    "                                        longitude)\n",
    "\n",
    "        forecasts.append(forecast_row)\n",
    "        \n",
    "    api_dataframe = spark.createDataFrame(forecasts).to_koalas()\n",
    "    \n",
    "    weather_mapping = {\n",
    "    'sky is clear': 'sunny',\n",
    "    'overcast clouds': 'cloudy',\n",
    "    'light rain': 'rainy',\n",
    "    'broken clouds': 'cloudy',\n",
    "    'few clouds': 'cloudy',\n",
    "    'haze': 'foggy',\n",
    "    'very heavy rain': 'rainy',\n",
    "    'thunderstorm with rain': 'thunderstorm',\n",
    "    'smoke': 'foggy',\n",
    "    'scattered clouds': 'cloudy',\n",
    "    'proximity shower rain': 'rainy',\n",
    "    'fog': 'foggy',\n",
    "    'moderate rain': 'rainy',\n",
    "    'proximity thunderstorm': 'thunderstorm',\n",
    "    'light snow': 'snowy',\n",
    "    'light shower snow': 'snowy',\n",
    "    'snow': 'snowy',\n",
    "    'sleet': 'snowy',\n",
    "    'light shower sleet': 'snowy',\n",
    "    'mist': 'foggy',\n",
    "    'proximity thunderstorm': 'thunderstorm',\n",
    "    'thunderstorm with heavy rain': 'thunderstorm',\n",
    "    'Rain': 'rainy'\n",
    "    }\n",
    "\n",
    "    api_dataframe['weather_condition'] =  \\\n",
    "    api_dataframe['weather_condition'].replace(weather_mapping)\n",
    "\n",
    "    # filter out other\n",
    "    valid_values = ['thunderstorm', 'rainy', 'snowy', 'cloudy', 'foggy', 'sunny']\n",
    "    api_dataframe = api_dataframe[api_dataframe['weather_condition'].isin(valid_values)]\n",
    "    \n",
    "    \n",
    "    indexed_df_api = indexed_df_1.transform(api_dataframe.to_spark())\n",
    "\n",
    "\n",
    "    assembler_api = VectorAssembler(\n",
    "        inputCols=['humidity', 'pressure','temperature', 'wind_direction', 'wind_speed', 'Longitude','Latitude'],\n",
    "        outputCol='features'\n",
    "    )\n",
    "    feature_df_api = assembler_api.transform(indexed_df_api)\n",
    "    \n",
    "    predictions_api = dt_model.transform(feature_df_api)\n",
    "\n",
    "    evaluator_api = MulticlassClassificationEvaluator(labelCol=\"label\", predictionCol=\"prediction\", metricName=\"accuracy\")\n",
    "    accuracy_api = evaluator_api.evaluate(predictions_api)\n",
    "    print(f\"Test set accuracy = {accuracy}\")\n",
    "\n",
    "    predictions_api.select('city', 'weather_condition', 'prediction').show()\n",
    "    "
   ]
  },
  {
   "cell_type": "code",
   "execution_count": 161,
   "metadata": {},
   "outputs": [
    {
     "name": "stdout",
     "output_type": "stream",
     "text": [
      "Test set accuracy = 0.5227443139215197\n",
      "+------+-----------------+----------+\n",
      "|  city|weather_condition|prediction|\n",
      "+------+-----------------+----------+\n",
      "|London|            rainy|       5.0|\n",
      "|London|            rainy|       1.0|\n",
      "|London|            rainy|       5.0|\n",
      "|London|            rainy|       2.0|\n",
      "|London|            rainy|       2.0|\n",
      "|London|            rainy|       5.0|\n",
      "|London|            rainy|       0.0|\n",
      "|London|            rainy|       5.0|\n",
      "|London|            rainy|       1.0|\n",
      "|London|            rainy|       2.0|\n",
      "|London|            rainy|       1.0|\n",
      "|London|            rainy|       5.0|\n",
      "|London|            rainy|       5.0|\n",
      "|London|            rainy|       1.0|\n",
      "|London|            rainy|       0.0|\n",
      "|London|            rainy|       5.0|\n",
      "|London|            rainy|       5.0|\n",
      "|London|            rainy|       5.0|\n",
      "|London|            rainy|       5.0|\n",
      "|London|            rainy|       5.0|\n",
      "+------+-----------------+----------+\n",
      "only showing top 20 rows\n",
      "\n"
     ]
    },
    {
     "ename": "KeyboardInterrupt",
     "evalue": "",
     "output_type": "error",
     "traceback": [
      "\u001b[1;31m---------------------------------------------------------------------------\u001b[0m",
      "\u001b[1;31mKeyboardInterrupt\u001b[0m                         Traceback (most recent call last)",
      "Input \u001b[1;32mIn [161]\u001b[0m, in \u001b[0;36m<cell line: 5>\u001b[1;34m()\u001b[0m\n\u001b[0;32m      5\u001b[0m \u001b[38;5;28;01mwhile\u001b[39;00m \u001b[38;5;28;01mTrue\u001b[39;00m:\n\u001b[0;32m      6\u001b[0m     \u001b[38;5;66;03m# Fetch data from the API\u001b[39;00m\n\u001b[0;32m      7\u001b[0m     data \u001b[38;5;241m=\u001b[39m all_api_in_one(API_URL, city_name)\n\u001b[1;32m---> 10\u001b[0m     \u001b[43mtime\u001b[49m\u001b[38;5;241;43m.\u001b[39;49m\u001b[43msleep\u001b[49m\u001b[43m(\u001b[49m\u001b[43mpolling_interval\u001b[49m\u001b[43m)\u001b[49m\n",
      "\u001b[1;31mKeyboardInterrupt\u001b[0m: "
     ]
    }
   ],
   "source": [
    "import time\n",
    "\n",
    "polling_interval = 60  # 1 minute\n",
    "\n",
    "while True:\n",
    "    # Fetch data from the API\n",
    "    data = all_api_in_one(API_URL, city_name)\n",
    "    \n",
    "    time.sleep(polling_interval)"
   ]
  }
 ],
 "metadata": {
  "kernelspec": {
   "display_name": "Python 3",
   "language": "python",
   "name": "python3"
  },
  "language_info": {
   "codemirror_mode": {
    "name": "ipython",
    "version": 3
   },
   "file_extension": ".py",
   "mimetype": "text/x-python",
   "name": "python",
   "nbconvert_exporter": "python",
   "pygments_lexer": "ipython3",
   "version": "3.10.11"
  }
 },
 "nbformat": 4,
 "nbformat_minor": 2
}
